{
 "cells": [
  {
   "cell_type": "code",
   "execution_count": 146,
   "id": "1e7a4ab3",
   "metadata": {},
   "outputs": [],
   "source": [
    "class Node:\n",
    "    def __init__(self, data=None, next_node=None):\n",
    "        self.data = data\n",
    "        self.next_node = next_node"
   ]
  },
  {
   "cell_type": "code",
   "execution_count": 220,
   "id": "9fd8ab60",
   "metadata": {},
   "outputs": [],
   "source": [
    "class LinkList:\n",
    "    def __init__(self):\n",
    "        self.head = None\n",
    "    \n",
    "    def insert_at_beganing(self, data):\n",
    "        node = Node(data, self.head)\n",
    "        self.head = node\n",
    "    \n",
    "    def insert_at_end(self, data):\n",
    "        if self.head == None:\n",
    "            node = Node(data, None)\n",
    "            self.head = Node\n",
    "        else:\n",
    "            end = self.head\n",
    "            while end.next_node != None:\n",
    "                end = end.next_node\n",
    "            end.next_node=Node(data, None)\n",
    "    \n",
    "    def delete_at_beganing(self):\n",
    "        node = self.head\n",
    "        self.head = node.next_node\n",
    "        del node\n",
    "    \n",
    "    def delete_at_end(self):\n",
    "        node = self.head\n",
    "        while node.next_node.next_node != None:\n",
    "            node = node.next_node\n",
    "        del node.next_node.next_node\n",
    "        node.next_node = None\n",
    "    \n",
    "    def insert_at(self, pos, data):\n",
    "        pointer = self.head\n",
    "        if pos < 1:\n",
    "            self.insert_at_beganing(data)\n",
    "        else:\n",
    "            while pos > 1:\n",
    "                pointer = pointer.next_node\n",
    "                pos -= 1\n",
    "            node = Node(data, pointer.next_node)\n",
    "            pointer.next_node = node\n",
    "    \n",
    "    def remove_at(self, pos):\n",
    "        pointer = self.head\n",
    "        if pos < 1:\n",
    "            self.delete_at_beganing()\n",
    "        else:\n",
    "            while pos > 1:\n",
    "                pointer = pointer.next_node\n",
    "                pos -= 1\n",
    "            pointer.next_node = pointer.next_node.next_node\n",
    "    \n",
    "    def length(self):\n",
    "        if self.head == None:\n",
    "            return 0\n",
    "        else:\n",
    "            pointer = self.head\n",
    "            count = 1\n",
    "            while pointer.next_node != None:\n",
    "                pointer = pointer.next_node\n",
    "                count += 1\n",
    "                \n",
    "            return count\n",
    "        \n",
    "    \n",
    "    def print_link_list(self):\n",
    "        if self.head == None:\n",
    "            print('link list is empty')\n",
    "        pointer = self.head\n",
    "        while pointer != None:\n",
    "            print(pointer.data)\n",
    "            pointer = pointer.next_node\n",
    "    \n",
    "        "
   ]
  },
  {
   "cell_type": "code",
   "execution_count": 221,
   "id": "e385bf4d",
   "metadata": {},
   "outputs": [
    {
     "name": "stdout",
     "output_type": "stream",
     "text": [
      "1\n",
      "2\n",
      "3\n",
      "len is 3\n"
     ]
    }
   ],
   "source": [
    "l = LinkList()\n",
    "l.insert_at_beganing(3)\n",
    "l.insert_at_beganing(2)\n",
    "l.insert_at_beganing(1)\n",
    "l.print_link_list()\n",
    "print(f'len is {l.length()}')"
   ]
  },
  {
   "cell_type": "code",
   "execution_count": 222,
   "id": "7030bf02",
   "metadata": {},
   "outputs": [
    {
     "name": "stdout",
     "output_type": "stream",
     "text": [
      "1\n",
      "2\n",
      "3\n",
      "4\n",
      "len is 4\n"
     ]
    }
   ],
   "source": [
    "l.insert_at_end(4)\n",
    "l.print_link_list()\n",
    "print(f'len is {l.length()}')"
   ]
  },
  {
   "cell_type": "code",
   "execution_count": 223,
   "id": "d1af464d",
   "metadata": {},
   "outputs": [
    {
     "name": "stdout",
     "output_type": "stream",
     "text": [
      "2\n",
      "3\n",
      "4\n",
      "len is 3\n"
     ]
    }
   ],
   "source": [
    "l.delete_at_beganing()\n",
    "l.print_link_list()\n",
    "print(f'len is {l.length()}')"
   ]
  },
  {
   "cell_type": "code",
   "execution_count": 224,
   "id": "ac97d3c0",
   "metadata": {},
   "outputs": [
    {
     "name": "stdout",
     "output_type": "stream",
     "text": [
      "2\n",
      "3\n",
      "len is 2\n"
     ]
    }
   ],
   "source": [
    "l.delete_at_end()\n",
    "l.print_link_list()\n",
    "print(f'len is {l.length()}')"
   ]
  },
  {
   "cell_type": "code",
   "execution_count": 225,
   "id": "74cf5720",
   "metadata": {},
   "outputs": [
    {
     "name": "stdout",
     "output_type": "stream",
     "text": [
      "2\n",
      "11\n",
      "3\n",
      "len is 3\n"
     ]
    }
   ],
   "source": [
    "l.insert_at(1,11)\n",
    "l.print_link_list()\n",
    "print(f'len is {l.length()}')"
   ]
  },
  {
   "cell_type": "code",
   "execution_count": 226,
   "id": "48523d80",
   "metadata": {},
   "outputs": [
    {
     "name": "stdout",
     "output_type": "stream",
     "text": [
      "11\n",
      "2\n",
      "11\n",
      "3\n",
      "len is 4\n"
     ]
    }
   ],
   "source": [
    "l.insert_at(0,11)\n",
    "l.print_link_list()\n",
    "print(f'len is {l.length()}')"
   ]
  },
  {
   "cell_type": "code",
   "execution_count": 227,
   "id": "a5dba305",
   "metadata": {},
   "outputs": [
    {
     "name": "stdout",
     "output_type": "stream",
     "text": [
      "11\n",
      "2\n",
      "11\n",
      "3\n",
      "10\n",
      "len is 5\n"
     ]
    }
   ],
   "source": [
    "l.insert_at(4,10)\n",
    "l.print_link_list()\n",
    "print(f'len is {l.length()}')"
   ]
  },
  {
   "cell_type": "code",
   "execution_count": 228,
   "id": "aeaa733c",
   "metadata": {},
   "outputs": [
    {
     "name": "stdout",
     "output_type": "stream",
     "text": [
      "11\n",
      "11\n",
      "3\n",
      "10\n",
      "len is 4\n"
     ]
    }
   ],
   "source": [
    "l.remove_at(1)\n",
    "l.print_link_list()\n",
    "print(f'len is {l.length()}')"
   ]
  },
  {
   "cell_type": "code",
   "execution_count": 229,
   "id": "99be78a8",
   "metadata": {},
   "outputs": [
    {
     "name": "stdout",
     "output_type": "stream",
     "text": [
      "11\n",
      "3\n",
      "10\n",
      "len is 3\n"
     ]
    }
   ],
   "source": [
    "l.remove_at(0)\n",
    "l.print_link_list()\n",
    "print(f'len is {l.length()}')"
   ]
  },
  {
   "cell_type": "code",
   "execution_count": 230,
   "id": "0a397334",
   "metadata": {},
   "outputs": [
    {
     "name": "stdout",
     "output_type": "stream",
     "text": [
      "11\n",
      "3\n",
      "len is 2\n"
     ]
    }
   ],
   "source": [
    "l.remove_at(2)\n",
    "l.print_link_list()\n",
    "print(f'len is {l.length()}')"
   ]
  },
  {
   "cell_type": "code",
   "execution_count": null,
   "id": "49df7fdf",
   "metadata": {},
   "outputs": [],
   "source": []
  }
 ],
 "metadata": {
  "kernelspec": {
   "display_name": "Python 3 (ipykernel)",
   "language": "python",
   "name": "python3"
  },
  "language_info": {
   "codemirror_mode": {
    "name": "ipython",
    "version": 3
   },
   "file_extension": ".py",
   "mimetype": "text/x-python",
   "name": "python",
   "nbconvert_exporter": "python",
   "pygments_lexer": "ipython3",
   "version": "3.9.7"
  }
 },
 "nbformat": 4,
 "nbformat_minor": 5
}
