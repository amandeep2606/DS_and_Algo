{
 "cells": [
  {
   "cell_type": "code",
   "execution_count": 81,
   "id": "e498d7c8",
   "metadata": {},
   "outputs": [],
   "source": [
    "def sort_two_sorted_arrays(a, b, arr):\n",
    "    i = j = k =  0\n",
    "\n",
    "    while i < len(a) and j < len(b):\n",
    "        if a[i] <= b[j]:\n",
    "            arr[k] = a[i]\n",
    "            i += 1\n",
    "        else:\n",
    "            arr[k] = b[j]\n",
    "            j += 1\n",
    "        k += 1\n",
    "            \n",
    "    while i < len(a):\n",
    "        arr[k] = a[i]\n",
    "        i += 1\n",
    "        k += 1\n",
    "\n",
    "        \n",
    "    while j < len(b):\n",
    "        arr[k] = b[j]\n",
    "        j += 1\n",
    "        k += 1\n",
    "        \n"
   ]
  },
  {
   "cell_type": "code",
   "execution_count": 82,
   "id": "123acde1",
   "metadata": {},
   "outputs": [],
   "source": [
    "def merge_sort(arr):\n",
    "    \n",
    "    if len(arr) <= 1:\n",
    "        return\n",
    "    \n",
    "    mid = len(arr)//2\n",
    "    left = arr[:mid]\n",
    "    right = arr[mid:]\n",
    "    \n",
    "    merge_sort(left)\n",
    "    merge_sort(right)\n",
    "    \n",
    "    sort_two_sorted_arrays(left, right, arr)"
   ]
  },
  {
   "cell_type": "code",
   "execution_count": 83,
   "id": "becf7329",
   "metadata": {},
   "outputs": [],
   "source": [
    "arr = [4,3,2,1]\n",
    "merge_sort(arr)"
   ]
  },
  {
   "cell_type": "code",
   "execution_count": 84,
   "id": "65ed4356",
   "metadata": {},
   "outputs": [
    {
     "data": {
      "text/plain": [
       "[1, 2, 3, 4]"
      ]
     },
     "execution_count": 84,
     "metadata": {},
     "output_type": "execute_result"
    }
   ],
   "source": [
    "arr\n"
   ]
  },
  {
   "cell_type": "code",
   "execution_count": 85,
   "id": "fca70089",
   "metadata": {},
   "outputs": [],
   "source": [
    "arr = [5,0,1,4,3]\n",
    "merge_sort(arr)"
   ]
  },
  {
   "cell_type": "code",
   "execution_count": 86,
   "id": "a3b9314f",
   "metadata": {},
   "outputs": [
    {
     "data": {
      "text/plain": [
       "[0, 1, 3, 4, 5]"
      ]
     },
     "execution_count": 86,
     "metadata": {},
     "output_type": "execute_result"
    }
   ],
   "source": [
    "arr"
   ]
  },
  {
   "cell_type": "code",
   "execution_count": null,
   "id": "0d6ad05e",
   "metadata": {},
   "outputs": [],
   "source": []
  }
 ],
 "metadata": {
  "kernelspec": {
   "display_name": "Python 3 (ipykernel)",
   "language": "python",
   "name": "python3"
  },
  "language_info": {
   "codemirror_mode": {
    "name": "ipython",
    "version": 3
   },
   "file_extension": ".py",
   "mimetype": "text/x-python",
   "name": "python",
   "nbconvert_exporter": "python",
   "pygments_lexer": "ipython3",
   "version": "3.9.7"
  }
 },
 "nbformat": 4,
 "nbformat_minor": 5
}
