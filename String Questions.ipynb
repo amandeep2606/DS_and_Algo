{
 "cells": [
  {
   "cell_type": "markdown",
   "id": "54c7d03e",
   "metadata": {},
   "source": [
    "### Reverse a String"
   ]
  },
  {
   "cell_type": "code",
   "execution_count": 1,
   "id": "9e94d7b2",
   "metadata": {},
   "outputs": [],
   "source": [
    "def reverse_str(s):\n",
    "    if len(s) <=0:\n",
    "        return s\n",
    "    return s[-1] + reverse_str(s[:-1])"
   ]
  },
  {
   "cell_type": "code",
   "execution_count": 2,
   "id": "422479b8",
   "metadata": {},
   "outputs": [
    {
     "data": {
      "text/plain": [
       "'namA'"
      ]
     },
     "execution_count": 2,
     "metadata": {},
     "output_type": "execute_result"
    }
   ],
   "source": [
    "reverse_str('Aman')"
   ]
  },
  {
   "cell_type": "code",
   "execution_count": 3,
   "id": "c04bec31",
   "metadata": {},
   "outputs": [
    {
     "data": {
      "text/plain": [
       "'dog si god'"
      ]
     },
     "execution_count": 3,
     "metadata": {},
     "output_type": "execute_result"
    }
   ],
   "source": [
    "reverse_str('dog is god')"
   ]
  },
  {
   "cell_type": "markdown",
   "id": "d90f538e",
   "metadata": {},
   "source": [
    "### Check whether a String is Palindrome or not"
   ]
  },
  {
   "cell_type": "code",
   "execution_count": 4,
   "id": "58d706af",
   "metadata": {},
   "outputs": [],
   "source": [
    "def check_palindrome(s):\n",
    "    if len(s) <= 0:\n",
    "        return s\n",
    "    left = 0\n",
    "    right = len(s) - 1\n",
    "    \n",
    "    while left<right:\n",
    "        if not s[left] == s[right]:\n",
    "            return \"string is not palindrome\"\n",
    "        left += 1\n",
    "        right -= 1\n",
    "        \n",
    "    print(\"String is Palindrome\")"
   ]
  },
  {
   "cell_type": "code",
   "execution_count": 5,
   "id": "eb86b357",
   "metadata": {},
   "outputs": [
    {
     "name": "stdout",
     "output_type": "stream",
     "text": [
      "String is Palindrome\n"
     ]
    }
   ],
   "source": [
    "check_palindrome(\"nitin\")"
   ]
  },
  {
   "cell_type": "code",
   "execution_count": 6,
   "id": "3d713290",
   "metadata": {},
   "outputs": [
    {
     "data": {
      "text/plain": [
       "'string is not palindrome'"
      ]
     },
     "execution_count": 6,
     "metadata": {},
     "output_type": "execute_result"
    }
   ],
   "source": [
    "check_palindrome('Aman')"
   ]
  },
  {
   "cell_type": "code",
   "execution_count": 8,
   "id": "80aa3456",
   "metadata": {},
   "outputs": [
    {
     "name": "stdout",
     "output_type": "stream",
     "text": [
      "String is Palindrome\n"
     ]
    }
   ],
   "source": [
    "check_palindrome('dog  god')"
   ]
  },
  {
   "cell_type": "markdown",
   "id": "a8686d9d",
   "metadata": {},
   "source": [
    "### Find Duplicate characters in a string"
   ]
  },
  {
   "cell_type": "code",
   "execution_count": 30,
   "id": "6dbb514d",
   "metadata": {},
   "outputs": [],
   "source": [
    "def find_duplicate(st):\n",
    "    s  = set()\n",
    "    duplicates = set()\n",
    "    for char in st:\n",
    "        if char in s:\n",
    "            duplicates.add(char)\n",
    "        else:\n",
    "            s.add(char)\n",
    "            \n",
    "    return duplicates"
   ]
  },
  {
   "cell_type": "code",
   "execution_count": 33,
   "id": "32c6cdd5",
   "metadata": {},
   "outputs": [
    {
     "name": "stdout",
     "output_type": "stream",
     "text": [
      "{' ', 'a', 'n', 'e'}\n"
     ]
    }
   ],
   "source": [
    "print(find_duplicate('aman deep singh'))"
   ]
  },
  {
   "cell_type": "code",
   "execution_count": 34,
   "id": "86e055a1",
   "metadata": {},
   "outputs": [
    {
     "name": "stdout",
     "output_type": "stream",
     "text": [
      "{'a'}\n"
     ]
    }
   ],
   "source": [
    "print(find_duplicate('aman'))"
   ]
  },
  {
   "cell_type": "code",
   "execution_count": null,
   "id": "fcd7ca62",
   "metadata": {},
   "outputs": [],
   "source": []
  }
 ],
 "metadata": {
  "kernelspec": {
   "display_name": "Python 3 (ipykernel)",
   "language": "python",
   "name": "python3"
  },
  "language_info": {
   "codemirror_mode": {
    "name": "ipython",
    "version": 3
   },
   "file_extension": ".py",
   "mimetype": "text/x-python",
   "name": "python",
   "nbconvert_exporter": "python",
   "pygments_lexer": "ipython3",
   "version": "3.9.7"
  }
 },
 "nbformat": 4,
 "nbformat_minor": 5
}
