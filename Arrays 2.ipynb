{
 "cells": [
  {
   "cell_type": "markdown",
   "id": "c5957580",
   "metadata": {},
   "source": [
    "### Given two sorted arrays arr1[] of size N and arr2[] of size M. Each array is sorted in non-decreasing order. Merge the two arrays into one sorted array in non-decreasing order without using any extra space."
   ]
  },
  {
   "cell_type": "code",
   "execution_count": 7,
   "id": "f29fbebd",
   "metadata": {},
   "outputs": [],
   "source": [
    "def merge_two_sorted_arrays(arr1, arr2):\n",
    "    i = j = 0\n",
    "    \n",
    "    while i < len(arr1):\n",
    "        if arr2[j] < arr1[i]:\n",
    "            arr1.insert(i, arr2[j])\n",
    "            j += 1\n",
    "        else:\n",
    "            i += 1\n",
    "            \n",
    "    while j < len(arr2):\n",
    "        arr1.append(arr2[j])\n",
    "        j += 1\n",
    "            \n",
    "    return arr1"
   ]
  },
  {
   "cell_type": "code",
   "execution_count": 8,
   "id": "f07c5060",
   "metadata": {},
   "outputs": [
    {
     "data": {
      "text/plain": [
       "[0, 1, 2, 3, 5, 6, 7, 8, 9]"
      ]
     },
     "execution_count": 8,
     "metadata": {},
     "output_type": "execute_result"
    }
   ],
   "source": [
    "arr1 = [1, 3, 5, 7]\n",
    "arr2 = [0, 2, 6, 8, 9]\n",
    "\n",
    "merge_two_sorted_arrays(arr1, arr2)"
   ]
  },
  {
   "cell_type": "code",
   "execution_count": 10,
   "id": "bbb91bf9",
   "metadata": {},
   "outputs": [
    {
     "data": {
      "text/plain": [
       "[5, 10, 18, 20, 20]"
      ]
     },
     "execution_count": 10,
     "metadata": {},
     "output_type": "execute_result"
    }
   ],
   "source": [
    "arr1 = [10, 20]\n",
    "arr2 = [5, 18, 20]\n",
    "\n",
    "merge_two_sorted_arrays(arr1, arr2)"
   ]
  },
  {
   "cell_type": "code",
   "execution_count": 11,
   "id": "842bb78d",
   "metadata": {},
   "outputs": [
    {
     "data": {
      "text/plain": [
       "[5, 10, 18, 20, 20, 3, 5]"
      ]
     },
     "execution_count": 11,
     "metadata": {},
     "output_type": "execute_result"
    }
   ],
   "source": [
    "arr1 = [10, 20]\n",
    "arr2 = [5, 18, 20, 3, 5]\n",
    "\n",
    "merge_two_sorted_arrays(arr1, arr2)"
   ]
  },
  {
   "cell_type": "markdown",
   "id": "5f6d119c",
   "metadata": {},
   "source": [
    "### Kadane's Algorithm"
   ]
  },
  {
   "cell_type": "markdown",
   "id": "a520d170",
   "metadata": {},
   "source": [
    "Given an array Arr[] of N integers. Find the contiguous sub-array(containing at least one number) which has the maximum sum and return its sum.\n"
   ]
  },
  {
   "cell_type": "code",
   "execution_count": 14,
   "id": "26baefda",
   "metadata": {},
   "outputs": [],
   "source": [
    "def largest_continous_sum(arr):\n",
    "    sum = 0\n",
    "    current_sum = 0\n",
    "    i = 0\n",
    "    while i < len(arr):\n",
    "        current_sum = current_sum + arr[i]\n",
    "        if current_sum > sum:\n",
    "            sum = current_sum\n",
    "        if current_sum < 0:\n",
    "            current_sum = 0\n",
    "        i += 1\n",
    "    return sum"
   ]
  },
  {
   "cell_type": "code",
   "execution_count": 16,
   "id": "4edd8dd1",
   "metadata": {},
   "outputs": [
    {
     "data": {
      "text/plain": [
       "9"
      ]
     },
     "execution_count": 16,
     "metadata": {},
     "output_type": "execute_result"
    }
   ],
   "source": [
    "largest_continous_sum([1,2,3,-2,5])"
   ]
  },
  {
   "cell_type": "code",
   "execution_count": null,
   "id": "379d7bff",
   "metadata": {},
   "outputs": [],
   "source": []
  }
 ],
 "metadata": {
  "kernelspec": {
   "display_name": "Python 3 (ipykernel)",
   "language": "python",
   "name": "python3"
  },
  "language_info": {
   "codemirror_mode": {
    "name": "ipython",
    "version": 3
   },
   "file_extension": ".py",
   "mimetype": "text/x-python",
   "name": "python",
   "nbconvert_exporter": "python",
   "pygments_lexer": "ipython3",
   "version": "3.9.7"
  }
 },
 "nbformat": 4,
 "nbformat_minor": 5
}
