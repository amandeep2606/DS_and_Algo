{
 "cells": [
  {
   "cell_type": "markdown",
   "id": "4d9d5880",
   "metadata": {},
   "source": [
    "### Reverse a  string"
   ]
  },
  {
   "cell_type": "code",
   "execution_count": 8,
   "id": "7eb7104c",
   "metadata": {},
   "outputs": [],
   "source": [
    "def reverse_string(arr):\n",
    "    if len(arr) <= 1:\n",
    "        return arr\n",
    "    return arr[-1] + reverse_array(arr[:-1])"
   ]
  },
  {
   "cell_type": "code",
   "execution_count": 6,
   "id": "647e6372",
   "metadata": {},
   "outputs": [
    {
     "name": "stdout",
     "output_type": "stream",
     "text": [
      "namA\n"
     ]
    }
   ],
   "source": [
    "print(reverse_array('Aman'))"
   ]
  },
  {
   "cell_type": "markdown",
   "id": "288845c6",
   "metadata": {},
   "source": [
    "Time complexity = o(n)\n",
    "\n",
    "space complexity = o(1)"
   ]
  },
  {
   "cell_type": "markdown",
   "id": "ceb3571b",
   "metadata": {},
   "source": [
    "### Reverse an array"
   ]
  },
  {
   "cell_type": "code",
   "execution_count": 11,
   "id": "aa1af9ae",
   "metadata": {},
   "outputs": [],
   "source": [
    "def reverse_array(arr):\n",
    "    end = len(arr) -1\n",
    "    start = 0\n",
    "    while start < end:\n",
    "        arr[start], arr[end] = arr[end], arr[start]\n",
    "        start += 1\n",
    "        end -= 1\n",
    "    return arr"
   ]
  },
  {
   "cell_type": "code",
   "execution_count": 12,
   "id": "07c2a2fe",
   "metadata": {},
   "outputs": [
    {
     "name": "stdout",
     "output_type": "stream",
     "text": [
      "[4, 3, 2, 1]\n"
     ]
    }
   ],
   "source": [
    "print(reverse_array([1,2,3,4]))"
   ]
  },
  {
   "cell_type": "code",
   "execution_count": 13,
   "id": "73277f42",
   "metadata": {},
   "outputs": [
    {
     "name": "stdout",
     "output_type": "stream",
     "text": [
      "[4, 3, 2, 1, 0]\n"
     ]
    }
   ],
   "source": [
    "print(reverse_array([0,1,2,3,4]))"
   ]
  },
  {
   "cell_type": "markdown",
   "id": "6020b7d9",
   "metadata": {},
   "source": [
    "Time Complexity: O(n)"
   ]
  },
  {
   "cell_type": "markdown",
   "id": "52d0e852",
   "metadata": {},
   "source": [
    "### Maximum and minimum of an array using minimum number of comparisons"
   ]
  },
  {
   "cell_type": "code",
   "execution_count": 26,
   "id": "5abe6e7e",
   "metadata": {},
   "outputs": [],
   "source": [
    "def get_min_max(low, high, arr):\n",
    "    if low == high:\n",
    "        arr_min = arr[low]\n",
    "        arr_max = arr[low]\n",
    "        return (arr_min, arr_max)\n",
    "    elif high == low + 1:\n",
    "        arr_min = min(arr)\n",
    "        arr_max = max(arr)\n",
    "        return (arr_min, arr_max)\n",
    "    else:\n",
    "        mid = (low+high)//2\n",
    "        arr_min1, arr_max1 = get_min_max(low, mid, arr)\n",
    "        arr_min2, arr_max2 = get_min_max(mid+1, high, arr)\n",
    "        return (min(arr_min1, arr_min2), max(arr_max1, arr_max2))"
   ]
  },
  {
   "cell_type": "code",
   "execution_count": 28,
   "id": "aaeaaf26",
   "metadata": {},
   "outputs": [
    {
     "data": {
      "text/plain": [
       "(1, 10)"
      ]
     },
     "execution_count": 28,
     "metadata": {},
     "output_type": "execute_result"
    }
   ],
   "source": [
    "arr=[10,9,7,3, 1]\n",
    "high = len(arr) - 1\n",
    "low = 0\n",
    "get_min_max(low, high, arr)"
   ]
  },
  {
   "cell_type": "markdown",
   "id": "a34a397e",
   "metadata": {},
   "source": [
    "### Given an array arr[] and an integer K where K is smaller than size of array, the task is to find the Kth smallest element in the given array. It is given that all array elements are distinct."
   ]
  },
  {
   "cell_type": "code",
   "execution_count": 52,
   "id": "cf539283",
   "metadata": {},
   "outputs": [],
   "source": [
    "def kth_smallest_element(arr, k):\n",
    "    for i in range(k):\n",
    "        for j in range(len(arr)-1):\n",
    "            if arr[i] < arr[j]:\n",
    "                arr[i], arr[j] = arr[j], arr[i]\n",
    "            j += 1\n",
    "        i -= 1\n",
    "        print(arr)\n",
    "    return arr[k]"
   ]
  },
  {
   "cell_type": "code",
   "execution_count": 53,
   "id": "1c7008be",
   "metadata": {},
   "outputs": [
    {
     "name": "stdout",
     "output_type": "stream",
     "text": [
      "[4, 3, 2, 1]\n"
     ]
    },
    {
     "data": {
      "text/plain": [
       "3"
      ]
     },
     "execution_count": 53,
     "metadata": {},
     "output_type": "execute_result"
    }
   ],
   "source": [
    "kth_smallest_element([4,3,2,1], 1)"
   ]
  },
  {
   "cell_type": "markdown",
   "id": "aa5fd2e9",
   "metadata": {},
   "source": [
    "### Given an array of size N containing only 0s, 1s, and 2s; sort the array in ascending order.\n"
   ]
  },
  {
   "cell_type": "code",
   "execution_count": 57,
   "id": "2278bc15",
   "metadata": {},
   "outputs": [],
   "source": [
    "def sortt(arr):\n",
    "    l = len(arr)\n",
    "    for i in range(l):\n",
    "        if arr[i] > 1:\n",
    "            arr.append(arr.pop(i))\n",
    "        elif arr[i] < 1:\n",
    "            arr.insert(0, arr.pop(i))\n",
    "        else:\n",
    "            pass\n",
    "    return arr\n",
    "            "
   ]
  },
  {
   "cell_type": "code",
   "execution_count": 58,
   "id": "e5566e25",
   "metadata": {},
   "outputs": [
    {
     "data": {
      "text/plain": [
       "[0, 1, 1, 2, 2]"
      ]
     },
     "execution_count": 58,
     "metadata": {},
     "output_type": "execute_result"
    }
   ],
   "source": [
    "sortt([2,0,1,2,1])"
   ]
  },
  {
   "cell_type": "markdown",
   "id": "4ef49b9e",
   "metadata": {},
   "source": [
    "### Move all negative numbers to beginning and positive to end with constant extra space\n"
   ]
  },
  {
   "cell_type": "code",
   "execution_count": 59,
   "id": "96e3b217",
   "metadata": {},
   "outputs": [],
   "source": [
    "def sort_negative_positive(arr):\n",
    "    l = len(arr)\n",
    "    for i in range(l):\n",
    "        if arr[i] > 0:\n",
    "            arr.append(arr.pop(i))\n",
    "        elif arr[i] < 0:\n",
    "            arr.insert(0, arr.pop(i))\n",
    "        else:\n",
    "            pass\n",
    "    return arr"
   ]
  },
  {
   "cell_type": "code",
   "execution_count": 60,
   "id": "194c4144",
   "metadata": {},
   "outputs": [
    {
     "data": {
      "text/plain": [
       "[-3, -1, -9, 3, 6, 4, 2]"
      ]
     },
     "execution_count": 60,
     "metadata": {},
     "output_type": "execute_result"
    }
   ],
   "source": [
    "sort_negative_positive([2, 3, -9, 4, 6, -1, -3])"
   ]
  },
  {
   "cell_type": "markdown",
   "id": "ec036f2f",
   "metadata": {},
   "source": [
    "### Union of Two arrays"
   ]
  },
  {
   "cell_type": "code",
   "execution_count": 61,
   "id": "3cb6b07f",
   "metadata": {},
   "outputs": [],
   "source": [
    "def union(arr1, arr2):\n",
    "    return list(set(arr1).union(arr2))"
   ]
  },
  {
   "cell_type": "code",
   "execution_count": 62,
   "id": "4a81ea30",
   "metadata": {},
   "outputs": [
    {
     "data": {
      "text/plain": [
       "[1, 2, 3, 4, 5]"
      ]
     },
     "execution_count": 62,
     "metadata": {},
     "output_type": "execute_result"
    }
   ],
   "source": [
    "union([1,2,3], [1,2,3,4,5])"
   ]
  },
  {
   "cell_type": "markdown",
   "id": "93e529a4",
   "metadata": {},
   "source": [
    "### Cyclically rotate an array by one "
   ]
  },
  {
   "cell_type": "code",
   "execution_count": 68,
   "id": "94759780",
   "metadata": {},
   "outputs": [],
   "source": [
    "def rotate(arr):\n",
    "    for i in range(len(arr)):\n",
    "        arr.insert(0, arr.pop())\n",
    "        return arr"
   ]
  },
  {
   "cell_type": "code",
   "execution_count": 69,
   "id": "0af7a53a",
   "metadata": {},
   "outputs": [
    {
     "data": {
      "text/plain": [
       "[5, 1, 2, 3, 4]"
      ]
     },
     "execution_count": 69,
     "metadata": {},
     "output_type": "execute_result"
    }
   ],
   "source": [
    "rotate([1, 2, 3, 4, 5])"
   ]
  },
  {
   "cell_type": "markdown",
   "id": "bf72c7e7",
   "metadata": {},
   "source": [
    "###  Find the contiguous sub-array(containing at least one number) which has the maximum sum and return its sum. Kadane's Algorithm ( v imp)"
   ]
  },
  {
   "cell_type": "code",
   "execution_count": 84,
   "id": "63720034",
   "metadata": {},
   "outputs": [],
   "source": [
    "def largest_subarr_sum(arr):\n",
    "    max = arr[0]\n",
    "    max_till_here = arr[0]\n",
    "    for i in range(1, len(arr)):\n",
    "        max_till_here = max_till_here + arr[i]\n",
    "        if max < max_till_here:\n",
    "            max = max_till_here\n",
    "        if max_till_here < 0:\n",
    "            max_till_here = 0\n",
    "        \n",
    "    return max\n",
    "            "
   ]
  },
  {
   "cell_type": "code",
   "execution_count": 85,
   "id": "9f9a3136",
   "metadata": {},
   "outputs": [
    {
     "data": {
      "text/plain": [
       "9"
      ]
     },
     "execution_count": 85,
     "metadata": {},
     "output_type": "execute_result"
    }
   ],
   "source": [
    "largest_subarr_sum([1,2,3,-2,5])"
   ]
  },
  {
   "cell_type": "code",
   "execution_count": 86,
   "id": "3f22e202",
   "metadata": {},
   "outputs": [
    {
     "data": {
      "text/plain": [
       "-1"
      ]
     },
     "execution_count": 86,
     "metadata": {},
     "output_type": "execute_result"
    }
   ],
   "source": [
    "largest_subarr_sum([-1,-2,-3,-4])"
   ]
  },
  {
   "cell_type": "markdown",
   "id": "971c3121",
   "metadata": {},
   "source": [
    "### Given an array arr[] denoting heights of N towers and a positive integer K, you have to modify the height of each tower either by increasing or decreasing them by K only once. After modifying, height should be a non-negative integer. \n",
    "###  Find out what could be the possible minimum difference of the height of shortest and longest towers after you have modified each tower.\n",
    "\n"
   ]
  },
  {
   "cell_type": "code",
   "execution_count": 98,
   "id": "d2390149",
   "metadata": {},
   "outputs": [],
   "source": [
    "def min_height_diff(arr, k):\n",
    "    arr.sort()\n",
    "    for i in range(len(arr)//2):\n",
    "        arr[i] += k\n",
    "        arr[len(arr) - 1 - i] -= k\n",
    "    \n",
    "    return arr[-1] - arr[0]\n",
    "        "
   ]
  },
  {
   "cell_type": "code",
   "execution_count": 99,
   "id": "89a15b81",
   "metadata": {},
   "outputs": [
    {
     "data": {
      "text/plain": [
       "5"
      ]
     },
     "execution_count": 99,
     "metadata": {},
     "output_type": "execute_result"
    }
   ],
   "source": [
    "min_height_diff([1, 5, 8, 10], 2)"
   ]
  },
  {
   "cell_type": "code",
   "execution_count": 101,
   "id": "98539d02",
   "metadata": {},
   "outputs": [
    {
     "data": {
      "text/plain": [
       "11"
      ]
     },
     "execution_count": 101,
     "metadata": {},
     "output_type": "execute_result"
    }
   ],
   "source": [
    "min_height_diff([3, 9, 12, 16, 20], 3)"
   ]
  },
  {
   "cell_type": "markdown",
   "id": "363982ac",
   "metadata": {},
   "source": [
    "### Given an array of N integers arr[] where each element represents the max number of steps that can be made forward from that element. Find the minimum number of jumps to reach the end of the array (starting from the first element). If an element is 0, then you cannot move through that element.\n",
    "Note: Return -1 if you can't reach the end of the array."
   ]
  },
  {
   "cell_type": "code",
   "execution_count": 104,
   "id": "3850afb2",
   "metadata": {},
   "outputs": [],
   "source": [
    "def jump_arr(arr):\n",
    "    l = len(arr)\n",
    "    count = 0\n",
    "    sum = 0\n",
    "    \n",
    "    for i in range(len(arr)):\n",
    "        sum += arr[i]\n",
    "        if sum >= l:\n",
    "            return count\n",
    "        count += 1\n",
    "    return -1\n",
    "        "
   ]
  },
  {
   "cell_type": "code",
   "execution_count": 105,
   "id": "dc4dd825",
   "metadata": {},
   "outputs": [
    {
     "data": {
      "text/plain": [
       "3"
      ]
     },
     "execution_count": 105,
     "metadata": {},
     "output_type": "execute_result"
    }
   ],
   "source": [
    "jump_arr([1, 3, 5, 8, 9, 2, 6, 7, 6, 8, 9])"
   ]
  },
  {
   "cell_type": "code",
   "execution_count": 106,
   "id": "5f314ff4",
   "metadata": {},
   "outputs": [
    {
     "data": {
      "text/plain": [
       "1"
      ]
     },
     "execution_count": 106,
     "metadata": {},
     "output_type": "execute_result"
    }
   ],
   "source": [
    "jump_arr([1])"
   ]
  },
  {
   "cell_type": "code",
   "execution_count": 107,
   "id": "49483e36",
   "metadata": {},
   "outputs": [
    {
     "data": {
      "text/plain": [
       "2"
      ]
     },
     "execution_count": 107,
     "metadata": {},
     "output_type": "execute_result"
    }
   ],
   "source": [
    "jump_arr([1, 4, 3, 2, 6, 7])"
   ]
  },
  {
   "cell_type": "markdown",
   "id": "8451d7ea",
   "metadata": {},
   "source": [
    "### Find the Duplicate Number in array"
   ]
  },
  {
   "cell_type": "code",
   "execution_count": 112,
   "id": "a3d9e3a7",
   "metadata": {},
   "outputs": [],
   "source": [
    "def find_duplicate(arr):\n",
    "    seen = set()\n",
    "    for each in arr:\n",
    "        if each in seen:\n",
    "            return each\n",
    "        else:\n",
    "            seen.add(each)"
   ]
  },
  {
   "cell_type": "code",
   "execution_count": 113,
   "id": "d4c5ed89",
   "metadata": {},
   "outputs": [
    {
     "data": {
      "text/plain": [
       "2"
      ]
     },
     "execution_count": 113,
     "metadata": {},
     "output_type": "execute_result"
    }
   ],
   "source": [
    "find_duplicate([1,3,4,2,2])"
   ]
  },
  {
   "cell_type": "code",
   "execution_count": 114,
   "id": "4a36894c",
   "metadata": {},
   "outputs": [
    {
     "data": {
      "text/plain": [
       "3"
      ]
     },
     "execution_count": 114,
     "metadata": {},
     "output_type": "execute_result"
    }
   ],
   "source": [
    "find_duplicate([3,1,3,4,2])"
   ]
  },
  {
   "cell_type": "markdown",
   "id": "4b6b84c1",
   "metadata": {},
   "source": [
    "### Merge two sorted array without extra space"
   ]
  },
  {
   "cell_type": "code",
   "execution_count": 117,
   "id": "1d672802",
   "metadata": {},
   "outputs": [],
   "source": [
    "def merge_arr(arr1, arr2):\n",
    "    if len(arr1) < len(arr2):\n",
    "        l = len(arr1)\n",
    "    else:\n",
    "        l = len(arr2)\n",
    "        \n",
    "    for i in range(l):\n",
    "        if arr1[i] < arr2[i]:\n",
    "            arr1.insert(i, arr2[i])\n",
    "        else:\n",
    "            \n",
    "    "
   ]
  },
  {
   "cell_type": "code",
   "execution_count": null,
   "id": "e79eb31f",
   "metadata": {},
   "outputs": [],
   "source": []
  }
 ],
 "metadata": {
  "kernelspec": {
   "display_name": "Python 3 (ipykernel)",
   "language": "python",
   "name": "python3"
  },
  "language_info": {
   "codemirror_mode": {
    "name": "ipython",
    "version": 3
   },
   "file_extension": ".py",
   "mimetype": "text/x-python",
   "name": "python",
   "nbconvert_exporter": "python",
   "pygments_lexer": "ipython3",
   "version": "3.9.7"
  }
 },
 "nbformat": 4,
 "nbformat_minor": 5
}
