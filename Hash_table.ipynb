{
 "cells": [
  {
   "cell_type": "code",
   "execution_count": 52,
   "id": "8576b573",
   "metadata": {},
   "outputs": [],
   "source": [
    "class Dictonary:\n",
    "    def __init__(self):\n",
    "        self.MAX = 100\n",
    "        self.arr = [None for i in range(self.MAX)]\n",
    "    \n",
    "    def get_hash(self, key):\n",
    "        hash = 0\n",
    "        for char in key:\n",
    "            hash += ord(char)\n",
    "        hash = hash % self.MAX\n",
    "        return hash\n",
    "    \n",
    "    def __setitem__(self, key, value):\n",
    "        hash = self.get_hash(key)\n",
    "        self.arr[hash] =  value\n",
    "        \n",
    "    def __getitem__(self, key):\n",
    "        hash = self.get_hash(key)\n",
    "        return self.arr[hash]\n",
    "            \n",
    "    def __delitem__(self, key):\n",
    "        hash = self.get_hash(key)\n",
    "        del d.arr[hash]"
   ]
  },
  {
   "cell_type": "code",
   "execution_count": 53,
   "id": "1d79bb40",
   "metadata": {},
   "outputs": [
    {
     "name": "stdout",
     "output_type": "stream",
     "text": [
      "Aman\n",
      "Delhi\n"
     ]
    }
   ],
   "source": [
    "d = Dictonary()\n",
    "d['name'] = 'Aman'\n",
    "d['city'] = 'Delhi'\n",
    "\n",
    "print(d['name'])\n",
    "print(d['city'])\n"
   ]
  },
  {
   "cell_type": "code",
   "execution_count": 56,
   "id": "7f7305bb",
   "metadata": {},
   "outputs": [
    {
     "name": "stdout",
     "output_type": "stream",
     "text": [
      "None\n",
      "Aman\n"
     ]
    }
   ],
   "source": [
    "del d['city']\n",
    "print(d['city'])\n",
    "print(d['name'])"
   ]
  },
  {
   "cell_type": "markdown",
   "id": "83ad3f45",
   "metadata": {},
   "source": [
    "### avoiding collision"
   ]
  },
  {
   "cell_type": "code",
   "execution_count": 84,
   "id": "f3925e04",
   "metadata": {},
   "outputs": [],
   "source": [
    "class Dictonary:\n",
    "    def __init__(self):\n",
    "        self.MAX = 100\n",
    "        self.arr = [[] for i in range(self.MAX)]\n",
    "    \n",
    "    def get_hash(self, key):\n",
    "        hash = 0\n",
    "        for char in key:\n",
    "            hash += ord(char)\n",
    "        hash = hash % self.MAX\n",
    "        return hash\n",
    "    \n",
    "    def __setitem__(self, key, value):\n",
    "        hash = self.get_hash(key)\n",
    "        found = False\n",
    "        if len(self.arr[hash]) > 0:\n",
    "            for idx, element in enumerate(self.arr[hash]):\n",
    "                if element[0] == key:\n",
    "                    found = True\n",
    "                    self.arr[hash][idx] = value\n",
    "                break\n",
    "        if not found:\n",
    "            self.arr[hash].append((key, value))\n",
    "                \n",
    "            \n",
    "    def __getitem__(self, key):\n",
    "        hash = self.get_hash(key)\n",
    "        found = False\n",
    "        if len(self.arr[hash]) < 1:\n",
    "            return \"Element not found\"\n",
    "        else:\n",
    "            for idx, element in enumerate(self.arr[hash]):\n",
    "                if element[0] == key:\n",
    "                    found = True\n",
    "                    return element[1]\n",
    "        if found == False:\n",
    "            return \"Element not found\"\n",
    "        \n",
    "            "
   ]
  },
  {
   "cell_type": "code",
   "execution_count": 83,
   "id": "62b21df9",
   "metadata": {},
   "outputs": [
    {
     "name": "stdout",
     "output_type": "stream",
     "text": [
      "element not found\n",
      "Aman\n",
      "kamal\n",
      "Element not found\n"
     ]
    }
   ],
   "source": [
    "d = Dictonary()\n",
    "d['name'] = 'Aman'\n",
    "d['enam'] = 'kamal'\n",
    "d['city'] = 'Delhi'\n",
    "\n",
    "print(d['ciys'])\n",
    "print(d['name'])\n",
    "print(d['enam'])\n",
    "print(d['mane'])"
   ]
  },
  {
   "cell_type": "code",
   "execution_count": null,
   "id": "65ec0091",
   "metadata": {},
   "outputs": [],
   "source": []
  }
 ],
 "metadata": {
  "kernelspec": {
   "display_name": "Python 3 (ipykernel)",
   "language": "python",
   "name": "python3"
  },
  "language_info": {
   "codemirror_mode": {
    "name": "ipython",
    "version": 3
   },
   "file_extension": ".py",
   "mimetype": "text/x-python",
   "name": "python",
   "nbconvert_exporter": "python",
   "pygments_lexer": "ipython3",
   "version": "3.9.7"
  }
 },
 "nbformat": 4,
 "nbformat_minor": 5
}
