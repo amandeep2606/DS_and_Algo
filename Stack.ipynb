{
 "cells": [
  {
   "cell_type": "code",
   "execution_count": 63,
   "id": "1139d518",
   "metadata": {},
   "outputs": [],
   "source": [
    "class Stack:\n",
    "    def __init__(self):\n",
    "        self.arr = []\n",
    "        \n",
    "    def insert(self, item):\n",
    "        self.arr.append(item)\n",
    "    \n",
    "    def pop(self):\n",
    "        self.arr.pop()\n",
    "        \n",
    "    def length(self):\n",
    "        return len(self.arr)\n",
    "    \n",
    "    def print_stack(self):\n",
    "        for each in self.arr:\n",
    "            print(each)\n",
    "            \n",
    "    def peek(self):\n",
    "        return self.arr[-1]\n",
    "    "
   ]
  },
  {
   "cell_type": "code",
   "execution_count": 64,
   "id": "7aef5e18",
   "metadata": {},
   "outputs": [
    {
     "name": "stdout",
     "output_type": "stream",
     "text": [
      "1\n",
      "2\n",
      "3\n"
     ]
    },
    {
     "data": {
      "text/plain": [
       "3"
      ]
     },
     "execution_count": 64,
     "metadata": {},
     "output_type": "execute_result"
    }
   ],
   "source": [
    "s = Stack()\n",
    "s.insert(1)\n",
    "s.insert(2)\n",
    "s.insert(3)\n",
    "s.print_stack()\n",
    "s.length()"
   ]
  },
  {
   "cell_type": "code",
   "execution_count": 65,
   "id": "b1f1a9e0",
   "metadata": {},
   "outputs": [
    {
     "name": "stdout",
     "output_type": "stream",
     "text": [
      "1\n",
      "2\n"
     ]
    },
    {
     "data": {
      "text/plain": [
       "2"
      ]
     },
     "execution_count": 65,
     "metadata": {},
     "output_type": "execute_result"
    }
   ],
   "source": [
    "s.pop()\n",
    "s.print_stack()\n",
    "s.length()"
   ]
  },
  {
   "cell_type": "markdown",
   "id": "98728784",
   "metadata": {},
   "source": [
    "### Reverse a string using stack"
   ]
  },
  {
   "cell_type": "code",
   "execution_count": 68,
   "id": "ed104811",
   "metadata": {},
   "outputs": [],
   "source": [
    "def rev(k):\n",
    "    print(k)\n",
    "    st = Stack()\n",
    "    for each in k:\n",
    "        st.insert(each)\n",
    "    l = []\n",
    "    for i in range(st.length()):\n",
    "        l.append(st.peek())\n",
    "        st.pop()\n",
    "        i += 1\n",
    "        \n",
    "    return ''.join(l)"
   ]
  },
  {
   "cell_type": "code",
   "execution_count": 69,
   "id": "a4678db1",
   "metadata": {},
   "outputs": [
    {
     "name": "stdout",
     "output_type": "stream",
     "text": [
      "aman\n"
     ]
    },
    {
     "data": {
      "text/plain": [
       "'nama'"
      ]
     },
     "execution_count": 69,
     "metadata": {},
     "output_type": "execute_result"
    }
   ],
   "source": [
    "rev('aman')"
   ]
  },
  {
   "cell_type": "code",
   "execution_count": null,
   "id": "98de9b28",
   "metadata": {},
   "outputs": [],
   "source": []
  }
 ],
 "metadata": {
  "kernelspec": {
   "display_name": "Python 3 (ipykernel)",
   "language": "python",
   "name": "python3"
  },
  "language_info": {
   "codemirror_mode": {
    "name": "ipython",
    "version": 3
   },
   "file_extension": ".py",
   "mimetype": "text/x-python",
   "name": "python",
   "nbconvert_exporter": "python",
   "pygments_lexer": "ipython3",
   "version": "3.9.7"
  }
 },
 "nbformat": 4,
 "nbformat_minor": 5
}
