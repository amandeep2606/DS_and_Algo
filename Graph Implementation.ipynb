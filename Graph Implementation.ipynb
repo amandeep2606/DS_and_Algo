{
 "cells": [
  {
   "cell_type": "markdown",
   "id": "1c936d52",
   "metadata": {},
   "source": [
    "### Graph Implementataion\n"
   ]
  },
  {
   "cell_type": "code",
   "execution_count": 32,
   "id": "89082e98",
   "metadata": {},
   "outputs": [],
   "source": [
    "class Graph:\n",
    "    def __init__(self, edges):\n",
    "        self.edges = edges\n",
    "        self.graph_dict = {}\n",
    "        for key, value in self.edges:\n",
    "            if key in self.graph_dict:\n",
    "                self.graph_dict[key].append(value)\n",
    "            else:\n",
    "                self.graph_dict[key] = [value]\n",
    "        print('graph dict: ', self.graph_dict)\n",
    "                    \n",
    "    \n",
    "    def get_path(self, start, end, path=[]):\n",
    "        path = path + [start]\n",
    "        \n",
    "        if start == end:\n",
    "            return [path]\n",
    "        \n",
    "        if start not in self.graph_dict:\n",
    "            return []\n",
    "        \n",
    "        paths = []\n",
    "        for node in self.graph_dict[start]:\n",
    "            if node not in path:\n",
    "                new_paths = self.get_path(node, end, path)\n",
    "                for p in new_paths:\n",
    "                    paths.append(p)\n",
    "                    \n",
    "        return paths\n",
    "                    \n",
    "        "
   ]
  },
  {
   "cell_type": "code",
   "execution_count": 33,
   "id": "5f79e322",
   "metadata": {},
   "outputs": [
    {
     "name": "stdout",
     "output_type": "stream",
     "text": [
      "graph dict:  {'Mumbai': ['Paris', 'Dubai'], 'Paris': ['Dubai', 'New York'], 'Dubai': ['New York'], 'New York': ['Torronto']}\n"
     ]
    }
   ],
   "source": [
    "edges = [\n",
    "    ('Mumbai', 'Paris'),\n",
    "    ('Mumbai', 'Dubai'),\n",
    "    ('Paris', 'Dubai'),\n",
    "    ('Paris', 'New York'),\n",
    "    ('Dubai', 'New York'),\n",
    "    ('New York', 'Torronto')\n",
    "]\n",
    "\n",
    "g = Graph(edges)"
   ]
  },
  {
   "cell_type": "code",
   "execution_count": 37,
   "id": "4b6385c2",
   "metadata": {},
   "outputs": [
    {
     "data": {
      "text/plain": [
       "[]"
      ]
     },
     "execution_count": 37,
     "metadata": {},
     "output_type": "execute_result"
    }
   ],
   "source": [
    "g.get_path('Delhi', 'Mumbai')\n"
   ]
  },
  {
   "cell_type": "code",
   "execution_count": 38,
   "id": "9a23dd38",
   "metadata": {},
   "outputs": [
    {
     "data": {
      "text/plain": [
       "[['Mumbai']]"
      ]
     },
     "execution_count": 38,
     "metadata": {},
     "output_type": "execute_result"
    }
   ],
   "source": [
    "g.get_path('Mumbai', 'Mumbai')"
   ]
  },
  {
   "cell_type": "code",
   "execution_count": 35,
   "id": "b555a440",
   "metadata": {},
   "outputs": [
    {
     "name": "stdout",
     "output_type": "stream",
     "text": [
      "[['Mumbai', 'Paris', 'Dubai', 'New York'], ['Mumbai', 'Paris', 'New York'], ['Mumbai', 'Dubai', 'New York']]\n"
     ]
    }
   ],
   "source": [
    "start = 'Mumbai'\n",
    "end = 'New York'\n",
    "\n",
    "print(g.get_path(start, end))"
   ]
  },
  {
   "cell_type": "code",
   "execution_count": null,
   "id": "aafc4917",
   "metadata": {},
   "outputs": [],
   "source": []
  }
 ],
 "metadata": {
  "kernelspec": {
   "display_name": "Python 3 (ipykernel)",
   "language": "python",
   "name": "python3"
  },
  "language_info": {
   "codemirror_mode": {
    "name": "ipython",
    "version": 3
   },
   "file_extension": ".py",
   "mimetype": "text/x-python",
   "name": "python",
   "nbconvert_exporter": "python",
   "pygments_lexer": "ipython3",
   "version": "3.9.7"
  }
 },
 "nbformat": 4,
 "nbformat_minor": 5
}
