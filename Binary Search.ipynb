{
 "cells": [
  {
   "cell_type": "code",
   "execution_count": 215,
   "id": "cf7b656f",
   "metadata": {},
   "outputs": [],
   "source": [
    "def binary_search(arr, element, left_index, right_index):\n",
    "    if right_index < left_index:\n",
    "        return \"Element not found\"\n",
    "    \n",
    "    mid = (left_index + right_index)//2\n",
    "        \n",
    "    if mid >= len(arr) or mid < 0:\n",
    "        return 'Element not found'\n",
    "\n",
    "    elif arr[mid]  == element:\n",
    "        return f'Element found at pos: {mid}'\n",
    "    elif element < arr[mid]:\n",
    "        return binary_search(arr, element, left_index, mid-1)\n",
    "    elif element > arr[mid]:\n",
    "        return binary_search(arr, element, mid+1, right_index)\n",
    "    "
   ]
  },
  {
   "cell_type": "code",
   "execution_count": 216,
   "id": "a114e25c",
   "metadata": {},
   "outputs": [
    {
     "data": {
      "text/plain": [
       "'Element found at pos: 1'"
      ]
     },
     "execution_count": 216,
     "metadata": {},
     "output_type": "execute_result"
    }
   ],
   "source": [
    "binary_search([1,2,3,4,5,6,7,8], 2, 0, 7)"
   ]
  },
  {
   "cell_type": "code",
   "execution_count": 217,
   "id": "7493ec2a",
   "metadata": {},
   "outputs": [
    {
     "data": {
      "text/plain": [
       "'Element found at pos: 2'"
      ]
     },
     "execution_count": 217,
     "metadata": {},
     "output_type": "execute_result"
    }
   ],
   "source": [
    "binary_search([1,2,3,4,5,6,7,8], 3, 0, 7)"
   ]
  },
  {
   "cell_type": "code",
   "execution_count": 218,
   "id": "320c181f",
   "metadata": {},
   "outputs": [
    {
     "data": {
      "text/plain": [
       "'Element found at pos: 4'"
      ]
     },
     "execution_count": 218,
     "metadata": {},
     "output_type": "execute_result"
    }
   ],
   "source": [
    "binary_search([1,2,3,4,5,6,7,8], 5, 0, 7)"
   ]
  },
  {
   "cell_type": "code",
   "execution_count": 219,
   "id": "8b239ce8",
   "metadata": {},
   "outputs": [
    {
     "data": {
      "text/plain": [
       "'Element found at pos: 5'"
      ]
     },
     "execution_count": 219,
     "metadata": {},
     "output_type": "execute_result"
    }
   ],
   "source": [
    "binary_search([1,2,3,4,5,6,7,8], 6, 0, 7)"
   ]
  },
  {
   "cell_type": "code",
   "execution_count": 220,
   "id": "4aaf8995",
   "metadata": {},
   "outputs": [
    {
     "data": {
      "text/plain": [
       "'Element found at pos: 6'"
      ]
     },
     "execution_count": 220,
     "metadata": {},
     "output_type": "execute_result"
    }
   ],
   "source": [
    "binary_search([1,2,3,4,5,6,7,8], 7, 0, 7)"
   ]
  },
  {
   "cell_type": "code",
   "execution_count": 221,
   "id": "30630d18",
   "metadata": {},
   "outputs": [
    {
     "data": {
      "text/plain": [
       "'Element found at pos: 0'"
      ]
     },
     "execution_count": 221,
     "metadata": {},
     "output_type": "execute_result"
    }
   ],
   "source": [
    "binary_search([1,2,3,4,5,6,7,8], 1, 0, 7)"
   ]
  },
  {
   "cell_type": "code",
   "execution_count": 222,
   "id": "26869a02",
   "metadata": {},
   "outputs": [
    {
     "data": {
      "text/plain": [
       "'Element found at pos: 7'"
      ]
     },
     "execution_count": 222,
     "metadata": {},
     "output_type": "execute_result"
    }
   ],
   "source": [
    "binary_search([1,2,3,4,5,6,7,8], 8, 0, 7)"
   ]
  },
  {
   "cell_type": "code",
   "execution_count": 223,
   "id": "1393bbcc",
   "metadata": {},
   "outputs": [
    {
     "data": {
      "text/plain": [
       "'Element not found'"
      ]
     },
     "execution_count": 223,
     "metadata": {},
     "output_type": "execute_result"
    }
   ],
   "source": [
    "binary_search([1,2,3,4,5,6,7,9], 8, 0, 7)"
   ]
  },
  {
   "cell_type": "code",
   "execution_count": 224,
   "id": "b035e60d",
   "metadata": {},
   "outputs": [
    {
     "data": {
      "text/plain": [
       "'Element not found'"
      ]
     },
     "execution_count": 224,
     "metadata": {},
     "output_type": "execute_result"
    }
   ],
   "source": [
    "binary_search([1,2,3,4,5,6,7,9], 0, 0, 7)"
   ]
  },
  {
   "cell_type": "code",
   "execution_count": null,
   "id": "23ab7ccb",
   "metadata": {},
   "outputs": [],
   "source": []
  }
 ],
 "metadata": {
  "kernelspec": {
   "display_name": "Python 3 (ipykernel)",
   "language": "python",
   "name": "python3"
  },
  "language_info": {
   "codemirror_mode": {
    "name": "ipython",
    "version": 3
   },
   "file_extension": ".py",
   "mimetype": "text/x-python",
   "name": "python",
   "nbconvert_exporter": "python",
   "pygments_lexer": "ipython3",
   "version": "3.9.7"
  }
 },
 "nbformat": 4,
 "nbformat_minor": 5
}
