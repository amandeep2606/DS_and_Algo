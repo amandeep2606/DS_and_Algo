{
 "cells": [
  {
   "cell_type": "code",
   "execution_count": 360,
   "id": "29eed116",
   "metadata": {},
   "outputs": [],
   "source": [
    "class BinarySearchTree:\n",
    "    def __init__(self, data):\n",
    "        self.data = data\n",
    "        self.left = None\n",
    "        self.right = None\n",
    "        \n",
    "    def add_child(self, data):\n",
    "        if data == self.data:\n",
    "            return # node already exist\n",
    "\n",
    "        if data < self.data:\n",
    "            if self.left:\n",
    "                self.left.add_child(data)\n",
    "            else:\n",
    "                self.left = BinarySearchTree(data)\n",
    "        else:\n",
    "            if self.right:\n",
    "                self.right.add_child(data)\n",
    "            else:\n",
    "                self.right = BinarySearchTree(data)\n",
    "                \n",
    "    def inorder_traversal(self):\n",
    "        if self.left:\n",
    "            self.left.inorder_traversal()\n",
    "        print(self.data)\n",
    "        \n",
    "        if self.right: \n",
    "            self.right.inorder_traversal()\n",
    "            \n",
    "    def preorder_traversal(self):\n",
    "        print(self.data)\n",
    "        if self.left:\n",
    "            self.left.preorder_traversal()\n",
    "        if self.right: \n",
    "            self.right.preorder_traversal()\n",
    "    \n",
    "    def postorder_traversal(self):\n",
    "        if self.left:\n",
    "            self.left.preorder_traversal()\n",
    "        if self.right: \n",
    "            self.right.preorder_traversal()\n",
    "        print(self.data)\n",
    "        \n",
    "    def search(self, data):\n",
    "        if data == self.data:\n",
    "            print('Data found in tree')\n",
    "            return self\n",
    "        elif data < self.data and self.left:\n",
    "            return self.left.search(data)\n",
    "        elif data > self.data and self.right:\n",
    "            return self.right.search(data)\n",
    "        else:\n",
    "            print('Data not Found in tree')\n",
    "            \n",
    "            \n",
    "    def find_min(self):\n",
    "        if not self.left:\n",
    "            return self.data\n",
    "        return self.left.find_min()\n",
    "    \n",
    "    def find_max(self):\n",
    "        if not self.right:\n",
    "            return self.data\n",
    "        return self.right.find_max()\n",
    "    \n",
    "    def delete(self, val):\n",
    "        if val < self.data:\n",
    "            if self.left:\n",
    "                self.left = self.left.delete(val)\n",
    "        elif val > self.data:\n",
    "            if self.right:\n",
    "                self.right = self.right.delete(val)\n",
    "        else:\n",
    "            if self.left is None and self.right is None:\n",
    "                return None\n",
    "            elif self.left is None:\n",
    "                return self.right\n",
    "            elif self.right is None:\n",
    "                return self.left\n",
    "\n",
    "            min_val = self.right.find_min()\n",
    "            self.data = min_val\n",
    "            self.right = self.right.delete(min_val)\n",
    "\n",
    "        return self\n",
    "            "
   ]
  },
  {
   "cell_type": "code",
   "execution_count": 361,
   "id": "4661c8c0",
   "metadata": {},
   "outputs": [],
   "source": [
    "tree = BinarySearchTree(50)\n",
    "tree.add_child(40)\n",
    "tree.add_child(60)\n",
    "tree.add_child(30)\n",
    "tree.add_child(45)\n",
    "tree.add_child(55)\n",
    "tree.add_child(70)"
   ]
  },
  {
   "cell_type": "code",
   "execution_count": 362,
   "id": "debbda3d",
   "metadata": {},
   "outputs": [
    {
     "name": "stdout",
     "output_type": "stream",
     "text": [
      "30\n",
      "40\n",
      "45\n",
      "50\n",
      "55\n",
      "60\n",
      "70\n"
     ]
    }
   ],
   "source": [
    "tree.inorder_traversal()"
   ]
  },
  {
   "cell_type": "code",
   "execution_count": 363,
   "id": "5d85e58a",
   "metadata": {},
   "outputs": [
    {
     "name": "stdout",
     "output_type": "stream",
     "text": [
      "50\n",
      "40\n",
      "30\n",
      "45\n",
      "60\n",
      "55\n",
      "70\n"
     ]
    }
   ],
   "source": [
    "tree.preorder_traversal()"
   ]
  },
  {
   "cell_type": "code",
   "execution_count": 364,
   "id": "a3978e94",
   "metadata": {},
   "outputs": [
    {
     "name": "stdout",
     "output_type": "stream",
     "text": [
      "40\n",
      "30\n",
      "45\n",
      "60\n",
      "55\n",
      "70\n",
      "50\n"
     ]
    }
   ],
   "source": [
    "tree.postorder_traversal()"
   ]
  },
  {
   "cell_type": "code",
   "execution_count": 365,
   "id": "dab355fc",
   "metadata": {},
   "outputs": [
    {
     "name": "stdout",
     "output_type": "stream",
     "text": [
      "Data found in tree\n"
     ]
    },
    {
     "data": {
      "text/plain": [
       "<__main__.BinarySearchTree at 0x107cddc40>"
      ]
     },
     "execution_count": 365,
     "metadata": {},
     "output_type": "execute_result"
    }
   ],
   "source": [
    "tree.search(40)"
   ]
  },
  {
   "cell_type": "code",
   "execution_count": 366,
   "id": "af1a1a4e",
   "metadata": {},
   "outputs": [
    {
     "name": "stdout",
     "output_type": "stream",
     "text": [
      "Data not Found in tree\n"
     ]
    }
   ],
   "source": [
    "tree.search(10)"
   ]
  },
  {
   "cell_type": "code",
   "execution_count": 367,
   "id": "f753829b",
   "metadata": {},
   "outputs": [
    {
     "name": "stdout",
     "output_type": "stream",
     "text": [
      "30\n",
      "40\n",
      "45\n",
      "50\n",
      "55\n",
      "60\n",
      "70\n"
     ]
    }
   ],
   "source": [
    "tree.inorder_traversal()"
   ]
  },
  {
   "cell_type": "code",
   "execution_count": 368,
   "id": "612c04e6",
   "metadata": {},
   "outputs": [
    {
     "data": {
      "text/plain": [
       "30"
      ]
     },
     "execution_count": 368,
     "metadata": {},
     "output_type": "execute_result"
    }
   ],
   "source": [
    "tree.find_min()"
   ]
  },
  {
   "cell_type": "code",
   "execution_count": 369,
   "id": "03d214de",
   "metadata": {},
   "outputs": [
    {
     "data": {
      "text/plain": [
       "70"
      ]
     },
     "execution_count": 369,
     "metadata": {},
     "output_type": "execute_result"
    }
   ],
   "source": [
    "tree.find_max()"
   ]
  },
  {
   "cell_type": "code",
   "execution_count": 370,
   "id": "2e13541e",
   "metadata": {},
   "outputs": [
    {
     "data": {
      "text/plain": [
       "<__main__.BinarySearchTree at 0x107cdd8e0>"
      ]
     },
     "execution_count": 370,
     "metadata": {},
     "output_type": "execute_result"
    }
   ],
   "source": [
    "tree.delete(70)"
   ]
  },
  {
   "cell_type": "code",
   "execution_count": 371,
   "id": "35383eaa",
   "metadata": {},
   "outputs": [
    {
     "name": "stdout",
     "output_type": "stream",
     "text": [
      "30\n",
      "40\n",
      "45\n",
      "50\n",
      "55\n",
      "60\n"
     ]
    }
   ],
   "source": [
    "tree.inorder_traversal()"
   ]
  },
  {
   "cell_type": "code",
   "execution_count": null,
   "id": "c8b75d8f",
   "metadata": {},
   "outputs": [],
   "source": []
  }
 ],
 "metadata": {
  "kernelspec": {
   "display_name": "Python 3 (ipykernel)",
   "language": "python",
   "name": "python3"
  },
  "language_info": {
   "codemirror_mode": {
    "name": "ipython",
    "version": 3
   },
   "file_extension": ".py",
   "mimetype": "text/x-python",
   "name": "python",
   "nbconvert_exporter": "python",
   "pygments_lexer": "ipython3",
   "version": "3.9.7"
  }
 },
 "nbformat": 4,
 "nbformat_minor": 5
}
