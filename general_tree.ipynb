{
 "cells": [
  {
   "cell_type": "code",
   "execution_count": 98,
   "id": "559a0594",
   "metadata": {},
   "outputs": [],
   "source": [
    "class TreeNode:\n",
    "    def __init__(self, data):\n",
    "        self.data = data\n",
    "        self.children = []\n",
    "        self.parent = None\n",
    "        \n",
    "    def add_child(self, child):\n",
    "        child.parent = self\n",
    "        self.children.append(child)\n",
    "        \n",
    "    def get_level(self):\n",
    "        level = 0\n",
    "        p = self.parent\n",
    "        while p:\n",
    "            level += 1\n",
    "            p = p.parent\n",
    "        return level\n",
    "        \n",
    "    def print_tree(self):\n",
    "        spaces = \" \"*self.get_level()*3\n",
    "        print(f'{spaces}|--{self.data}')\n",
    "        if self.children:\n",
    "            for child in self.children:\n",
    "                child.print_tree()\n",
    "        "
   ]
  },
  {
   "cell_type": "code",
   "execution_count": 99,
   "id": "3cb952ca",
   "metadata": {},
   "outputs": [],
   "source": [
    "root = TreeNode('Electronics')\n",
    "\n",
    "tv = TreeNode('TV')\n",
    "mobile = TreeNode('Mobile')\n",
    "\n",
    "root.add_child(tv)\n",
    "root.add_child(mobile)\n",
    "\n",
    "samsung_tv = TreeNode('samsungtv')\n",
    "lg_tv = TreeNode('LGtv')\n",
    "mi_tv = TreeNode('MItv')\n",
    "\n",
    "tv.add_child(samsung_tv)\n",
    "tv.add_child(lg_tv)\n",
    "tv.add_child(mi_tv)\n",
    "\n",
    "samsung_mobile = TreeNode('samsung_mobile')\n",
    "lg_mobile = TreeNode('LG_mobile')\n",
    "mi_mobile = TreeNode('MI_mobile')\n",
    "\n",
    "mobile.add_child(samsung_mobile)\n",
    "mobile.add_child(lg_mobile)\n",
    "mobile.add_child(mi_mobile)"
   ]
  },
  {
   "cell_type": "code",
   "execution_count": 100,
   "id": "25096e23",
   "metadata": {},
   "outputs": [
    {
     "name": "stdout",
     "output_type": "stream",
     "text": [
      "|--Electronics\n",
      "   |--TV\n",
      "      |--samsungtv\n",
      "      |--LGtv\n",
      "      |--MItv\n",
      "   |--Mobile\n",
      "      |--samsung_mobile\n",
      "      |--LG_mobile\n",
      "      |--MI_mobile\n"
     ]
    }
   ],
   "source": [
    "root.print_tree()"
   ]
  },
  {
   "cell_type": "markdown",
   "id": "f9de3ac6",
   "metadata": {},
   "source": [
    "### Location tree Example"
   ]
  },
  {
   "cell_type": "code",
   "execution_count": 101,
   "id": "8664a12d",
   "metadata": {},
   "outputs": [],
   "source": [
    "India = TreeNode('India')"
   ]
  },
  {
   "cell_type": "code",
   "execution_count": 102,
   "id": "03208f92",
   "metadata": {},
   "outputs": [],
   "source": [
    "Delhi = TreeNode('Delhi')\n",
    "India.add_child(Delhi)\n",
    "\n",
    "Mumbai = TreeNode('Mumbai')\n",
    "India.add_child(Mumbai)\n",
    "\n",
    "Gujrat = TreeNode('Gujrat')\n",
    "India.add_child(Gujrat)"
   ]
  },
  {
   "cell_type": "code",
   "execution_count": 103,
   "id": "bb648360",
   "metadata": {},
   "outputs": [],
   "source": [
    "D1 = TreeNode('Model Town')\n",
    "Delhi.add_child(D1)\n",
    "\n",
    "D2 = TreeNode('Tilak Nagar')\n",
    "Delhi.add_child(D2)\n",
    "\n",
    "D3 = TreeNode('Rajouri')\n",
    "Delhi.add_child(D3)\n",
    "\n",
    "M1 = TreeNode('Bandra')\n",
    "Mumbai.add_child(M1)\n",
    "\n",
    "M2 = TreeNode('Juhu')\n",
    "Mumbai.add_child(M2)\n",
    "\n",
    "M3 = TreeNode('Santa cruz')\n",
    "Mumbai.add_child(M3)\n",
    "\n",
    "M4 = TreeNode('Dadar')\n",
    "Mumbai.add_child(M4)\n",
    "\n",
    "G1 = TreeNode('Ahmedabad')\n",
    "Gujrat.add_child(G1)"
   ]
  },
  {
   "cell_type": "code",
   "execution_count": 104,
   "id": "bb0690b1",
   "metadata": {},
   "outputs": [
    {
     "name": "stdout",
     "output_type": "stream",
     "text": [
      "|--India\n",
      "   |--Delhi\n",
      "      |--Model Town\n",
      "      |--Tilak Nagar\n",
      "      |--Rajouri\n",
      "   |--Mumbai\n",
      "      |--Bandra\n",
      "      |--Juhu\n",
      "      |--Santa cruz\n",
      "      |--Dadar\n",
      "   |--Gujrat\n",
      "      |--Ahmedabad\n"
     ]
    }
   ],
   "source": [
    "India.print_tree()"
   ]
  },
  {
   "cell_type": "code",
   "execution_count": null,
   "id": "6ccaacdb",
   "metadata": {},
   "outputs": [],
   "source": []
  }
 ],
 "metadata": {
  "kernelspec": {
   "display_name": "Python 3 (ipykernel)",
   "language": "python",
   "name": "python3"
  },
  "language_info": {
   "codemirror_mode": {
    "name": "ipython",
    "version": 3
   },
   "file_extension": ".py",
   "mimetype": "text/x-python",
   "name": "python",
   "nbconvert_exporter": "python",
   "pygments_lexer": "ipython3",
   "version": "3.9.7"
  }
 },
 "nbformat": 4,
 "nbformat_minor": 5
}
